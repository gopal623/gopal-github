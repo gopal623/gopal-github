{
 "cells": [
  {
   "cell_type": "markdown",
   "metadata": {},
   "source": [
    "# Introduction - Business problem"
   ]
  },
  {
   "cell_type": "markdown",
   "metadata": {},
   "source": [
    "This project is aimed at solving the problem for a current Sydney local resident, in the suburb of ‘Parramatta’, considering moving to Hornsby expecting this place to be sports friendly and have a different living experience compared to Parramatta. The recommendation is based on clustering analysis of the similarities , or the dissimilarities between the current suburb and the recommended suburb, based on how prevalent parks and fitness activities are. The recommendation will compare the suburbs of Parramatta and Hornsby and suggest whether the move to Hornsby will fulfil the aspirations of the Sydney local resident"
   ]
  },
  {
   "cell_type": "markdown",
   "metadata": {},
   "source": [
    "# Data sourcing"
   ]
  },
  {
   "cell_type": "markdown",
   "metadata": {},
   "source": [
    "Suburb data structure obtained was based on the post code and the distance of each suburb centre from the Sydney CBD, from ‘freemaptools’ website. \n",
    "https://www.matthewproctor.com/australian_postcodes\n",
    "\n",
    "In addition, all Australian postcodes with geocoordinates, was obtained from public website ‘matthewproctor’ \n",
    "https://www.freemaptools.com/find-australian-postcodes-inside-radius.htm\n",
    "\n",
    "Neighbourhood data for each suburb was sourced via the Foursquare API, including the most favourite places, such as cafes, restaurants, parks, stations, stores etc to compare the resident’s current suburb to proposed suburb"
   ]
  },
  {
   "cell_type": "code",
   "execution_count": null,
   "metadata": {},
   "outputs": [],
   "source": []
  }
 ],
 "metadata": {
  "kernelspec": {
   "display_name": "Python 3",
   "language": "python",
   "name": "python3"
  },
  "language_info": {
   "codemirror_mode": {
    "name": "ipython",
    "version": 3
   },
   "file_extension": ".py",
   "mimetype": "text/x-python",
   "name": "python",
   "nbconvert_exporter": "python",
   "pygments_lexer": "ipython3",
   "version": "3.7.1"
  }
 },
 "nbformat": 4,
 "nbformat_minor": 2
}
